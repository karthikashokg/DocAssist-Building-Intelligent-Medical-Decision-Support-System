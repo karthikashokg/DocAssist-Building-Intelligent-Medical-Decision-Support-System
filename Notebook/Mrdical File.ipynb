{
 "cells": [
  {
   "cell_type": "markdown",
   "id": "eeb448f9-fc59-44a6-9d46-64437566a06f",
   "metadata": {},
   "source": [
    "## DocAssist (Building Intelligent Medical Decision Support System)\n",
    "\n",
    "\n",
    "### Welcome to Medical Decision Support System Notebook!\n",
    "##### Greeting and welcome to this comprehensive notebook that walks you through the preprocessing, training, evaluation, etc. of our Intelligent Medical model."
   ]
  },
  {
   "cell_type": "markdown",
   "id": "cac81226-9165-4151-8b1c-49364e466317",
   "metadata": {
    "tags": []
   },
   "source": [
    "---"
   ]
  },
  {
   "cell_type": "markdown",
   "id": "88f7dc81-a51a-4dc4-9fe3-79ab1469bebc",
   "metadata": {},
   "source": [
    "### Overview\n",
    "\n",
    "This code represents a comprehensive workflow for training and evaluating a machine learning model using Amazon SageMaker. The aim is to demonstrate a structured approach towards building and assessing predictive models, particularly in the context of healthcare data analysis. Here's an overview of the tasks covered in this workflow:\n",
    "\n",
    "1. **Data Preprocessing**: The initial step involves preparing the data for analysis by cleaning it, performing feature engineering, and handling missing values. This ensures that the data is in a suitable format for model training.\n",
    "\n",
    "2. **Model Training and Evaluation**: We utilize the Random Forest Classifier as our predictive model and explore different hyperparameters, such as the number of estimators (`n_estimators`). The model is trained on a portion of the data and evaluated on separate validation and test sets to assess its performance.\n",
    "\n",
    "3. **Data Saving and Uploading to S3**: Once the model is trained and evaluated, the datasets are saved as CSV files and uploaded to Amazon S3 for efficient storage and future access. This facilitates seamless integration with other AWS services and enables scalability.\n",
    "\n",
    "4. **Prediction and Displaying Results**: Finally, the trained model is used to make predictions on unseen data, and the results are displayed, including predicted labels and probability estimates. This step provides insights into the model's predictive capabilities and confidence levels.\n",
    "\n",
    "Throughout this workflow, we aim to illustrate best practices in machine learning model development and evaluation, emphasizing the importance of data preprocessing, model tuning, and result interpretation in achieving accurate and reliable predictions."
   ]
  },
  {
   "cell_type": "markdown",
   "id": "78b8002a-b83d-4531-a78f-6d44a4f02429",
   "metadata": {},
   "source": [
    "## Dependencies and Imports"
   ]
  },
  {
   "cell_type": "code",
   "execution_count": 2,
   "id": "d353d258-3189-47f3-9b7f-5ce9c772bbbb",
   "metadata": {
    "collapsed": true,
    "jupyter": {
     "outputs_hidden": true
    },
    "tags": []
   },
   "outputs": [
    {
     "name": "stdout",
     "output_type": "stream",
     "text": [
      "sagemaker.config INFO - Not applying SDK defaults from location: /etc/xdg/sagemaker/config.yaml\n",
      "sagemaker.config INFO - Not applying SDK defaults from location: /root/.config/sagemaker/config.yaml\n"
     ]
    },
    {
     "name": "stderr",
     "output_type": "stream",
     "text": [
      "Exception ignored in: <bound method IPythonKernel._clean_thread_parent_frames of <ipykernel.ipkernel.IPythonKernel object at 0x7f3dec90fd90>>\n",
      "Traceback (most recent call last):\n",
      "  File \"/opt/conda/lib/python3.10/site-packages/ipykernel/ipkernel.py\", line 770, in _clean_thread_parent_frames\n",
      "    def _clean_thread_parent_frames(\n",
      "KeyboardInterrupt: \n"
     ]
    }
   ],
   "source": [
    "pip install --upgrade pandas\n",
    "pip install --upgrade fsspec\n",
    "pip install --upgrade xgboost\n",
    "pip install -U sagemaker\n",
    "pip install tornado==6.4\n",
    "pip install --upgrade typing-extensions\n",
    "pip install scikit-learn\n",
    "pip install pydantic\n",
    "pip install pydantic-settings\n",
    "pip install matplotlib reportlab\n",
    "pip install --upgrade scikit-learn\n",
    "\n",
    "import pandas as pd\n",
    "import numpy as np \n",
    "import boto3\n",
    "import sagemaker\n",
    "import json\n",
    "import joblib\n",
    "from sagemaker.xgboost.estimator import XGBoost\n",
    "from sagemaker.tuner import (\n",
    "    IntegerParameter,\n",
    "    ContinuousParameter,\n",
    "    HyperparameterTuner\n",
    ")\n",
    "from sagemaker.inputs import TrainingInput\n",
    "from sagemaker.image_uris import retrieve\n",
    "from sagemaker.serializers import CSVSerializer\n",
    "from sagemaker.deserializers import CSVDeserializer\n",
    "\n",
    "from sklearn.model_selection import train_test_split\n",
    "from sklearn.preprocessing import StandardScaler, OneHotEncoder\n",
    "from sklearn.ensemble import RandomForestClassifier\n",
    "from sklearn.metrics import classification_report, roc_auc_score, roc_curve, auc\n",
    "import matplotlib.pyplot as plt\n",
    "import seaborn as sns"
   ]
  },
  {
   "cell_type": "markdown",
   "id": "4ef5146b-c83a-4db1-9c08-21d7bfcbc32b",
   "metadata": {},
   "source": [
    "## Exploratory Data Analysis\n",
    "\n",
    "This code is for exploratory data analysis (EDA). Here, we are loading a dataset from Amazon S3 and performing initial exploration."
   ]
  },
  {
   "cell_type": "code",
   "execution_count": null,
   "id": "442666b3-6180-43f9-87c5-a4d25152f4d4",
   "metadata": {},
   "outputs": [],
   "source": [
    "# Load Dataset from S3\n",
    "df = pd.read_csv('s3://medicaldata01/Medical dataset.csv')  \n",
    "print(df)"
   ]
  },
  {
   "cell_type": "markdown",
   "id": "90e5925f-9a40-450e-994d-186492a79b78",
   "metadata": {},
   "source": [
    "## Data Preprocessing\n",
    "\n",
    "This section of the code focuses on data preprocessing, including data cleaning and feature engineering.\n",
    "\n",
    "### Data Cleaning and Feature Engineering"
   ]
  },
  {
   "cell_type": "code",
   "execution_count": null,
   "id": "f4f5ea87-dd1d-45b0-823f-4e06a04e564f",
   "metadata": {},
   "outputs": [],
   "source": [
    "# Fill Missing Values with Mean\n",
    "numeric_columns = df.select_dtypes(include=[np.number]).columns.tolist()\n",
    "df[numeric_columns] = df[numeric_columns].fillna(df[numeric_columns].mean())"
   ]
  },
  {
   "cell_type": "markdown",
   "id": "e3b8215f-91fb-4489-978a-12ff870bdb54",
   "metadata": {},
   "source": [
    "### One-Hot Encoding for 'SEX' Column\n",
    "The 'SEX' column is one-hot encoded to convert categorical data into a numerical format."
   ]
  },
  {
   "cell_type": "code",
   "execution_count": null,
   "id": "0a6d788c-dd01-450b-be87-ba983c25e2c1",
   "metadata": {},
   "outputs": [],
   "source": [
    "encoder = OneHotEncoder(drop='first')\n",
    "sex_encoded = encoder.fit_transform(df[['SEX']])\n",
    "df_encoded = pd.concat([df.drop('SEX', axis=1), pd.DataFrame(sex_encoded.toarray(), columns=['SEX_encoded'])], axis=1)"
   ]
  },
  {
   "cell_type": "markdown",
   "id": "630da209-454e-41d6-aecf-f2f1582f5447",
   "metadata": {},
   "source": [
    "### Histograms\n",
    "Histograms are plotted to visualize the distribution of numerical features."
   ]
  },
  {
   "cell_type": "code",
   "execution_count": null,
   "id": "053f6d98-464d-47aa-9b45-f6362a675893",
   "metadata": {},
   "outputs": [],
   "source": [
    "df.hist(figsize=(15, 10))\n",
    "plt.show()"
   ]
  },
  {
   "cell_type": "markdown",
   "id": "51c0276d-c9d0-4db5-95be-6b00a33d4ac5",
   "metadata": {},
   "source": [
    "### Correlation Matrix\n",
    "A correlation matrix is plotted to examine the relationships between variables."
   ]
  },
  {
   "cell_type": "code",
   "execution_count": null,
   "id": "7e9d7f04-b54c-4ee6-970c-2a001046258e",
   "metadata": {},
   "outputs": [],
   "source": [
    "corr_matrix = df_encoded.corr()\n",
    "plt.figure(figsize=(12, 8))\n",
    "sns.heatmap(corr_matrix, annot=True, cmap='coolwarm', fmt=\".2f\")\n",
    "plt.show()"
   ]
  },
  {
   "cell_type": "markdown",
   "id": "90fb51e3-f7e8-474b-b5b1-0ad06a9b6ca3",
   "metadata": {},
   "source": [
    "### Skewness and Kurtosis\n",
    "Skewness and kurtosis of the features are calculated to understand the distribution characteristics."
   ]
  },
  {
   "cell_type": "code",
   "execution_count": null,
   "id": "be9a55f9-1aed-4839-b10f-b043ed2cfdbb",
   "metadata": {},
   "outputs": [],
   "source": [
    "print(df_encoded.skew())\n",
    "print(df_encoded.kurt())"
   ]
  },
  {
   "cell_type": "markdown",
   "id": "ef4056a8-d8ed-4d10-ba63-75d4d6195de5",
   "metadata": {
    "tags": []
   },
   "source": [
    "### Train-Test-Validation Split\n",
    "The dataset is split into training, testing, and validation sets."
   ]
  },
  {
   "cell_type": "code",
   "execution_count": null,
   "id": "9b55ff1a-095f-4f9e-86ae-4f84be6b8e62",
   "metadata": {},
   "outputs": [],
   "source": [
    "y = df['SOURCE']\n",
    "X = df.drop('SOURCE', axis=1)\n",
    "\n",
    "X_train, X_temp, y_train, y_temp = train_test_split(X, y, test_size=0.2, random_state=42)\n",
    "X_test, X_val, y_test, y_val = train_test_split(X_temp, y_temp, test_size=0.5, random_state=42)"
   ]
  },
  {
   "cell_type": "markdown",
   "id": "62cbf3f7-a574-4d51-ba65-0a7ad153e0df",
   "metadata": {},
   "source": [
    "### One-Hot Encoding for 'SEX' Column (Again)\n",
    "The 'SEX' column in the training and testing sets is one-hot encoded."
   ]
  },
  {
   "cell_type": "code",
   "execution_count": null,
   "id": "a093b293-c2ea-45c5-9e97-d42e6c7071f4",
   "metadata": {},
   "outputs": [],
   "source": [
    "encoder = OneHotEncoder(drop='first')\n",
    "X_train_encoded = encoder.fit_transform(X_train[['SEX']]).toarray()\n",
    "X_test_encoded = encoder.transform(X_test[['SEX']]).toarray()"
   ]
  },
  {
   "cell_type": "markdown",
   "id": "ca1268cc-b009-4ebe-85ef-3fe629895fe0",
   "metadata": {},
   "source": [
    "### Drop Original 'SEX' Column and Concatenate Encoded Columns\n",
    "The original 'SEX' column is dropped, and the encoded columns are concatenated with the feature matrices."
   ]
  },
  {
   "cell_type": "code",
   "execution_count": null,
   "id": "a6febb8f-1030-4b30-b41c-83b8b6dc6f8e",
   "metadata": {},
   "outputs": [],
   "source": [
    "X_train.drop('SEX', axis=1, inplace=True)\n",
    "X_test.drop('SEX', axis=1, inplace=True)\n",
    "X_train = np.hstack((X_train.values, X_train_encoded))\n",
    "X_test = np.hstack((X_test.values, X_test_encoded))"
   ]
  },
  {
   "cell_type": "markdown",
   "id": "0830e1de-75d3-470c-a26d-f3645b4e7dcd",
   "metadata": {},
   "source": [
    "### Feature Scaling\n",
    "Feature scaling is applied to standardize the features."
   ]
  },
  {
   "cell_type": "code",
   "execution_count": null,
   "id": "bce5196e-6f57-4a4b-8219-510b3d9f22ee",
   "metadata": {},
   "outputs": [],
   "source": [
    "scaler = StandardScaler()\n",
    "X_train_scaled = scaler.fit_transform(X_train)\n",
    "X_test_scaled = scaler.transform(X_test)"
   ]
  },
  {
   "cell_type": "markdown",
   "id": "a2343547-bd88-4dd0-a175-a676cc181b52",
   "metadata": {},
   "source": [
    "### Random Forest Classifier Training and Validation\n",
    "\n",
    "This section of the code trains a Random Forest Classifier with different values of `n_estimators` and evaluates its performance on both the training and validation sets."
   ]
  },
  {
   "cell_type": "code",
   "execution_count": null,
   "id": "bc707bcf-76fc-4d1f-a872-108f0a197ced",
   "metadata": {},
   "outputs": [],
   "source": [
    "# Initialize lists to store training and validation scores\n",
    "train_scores = []\n",
    "val_scores = []\n",
    "\n",
    "# Define a range of values for n_estimators\n",
    "n_estimators_values = range(10, 201, 10)\n",
    "\n",
    "# Train Random Forest Classifier with different n_estimators values\n",
    "for n in n_estimators_values:\n",
    "    clf = RandomForestClassifier(n_estimators=n, random_state=42)\n",
    "    clf.fit(X_train_scaled, y_train)\n",
    "    \n",
    "    # Calculate training and validation scores\n",
    "    train_score = clf.score(X_train_scaled, y_train)\n",
    "    val_score = clf.score(X_test_scaled, y_test)\n",
    "    \n",
    "    train_scores.append(train_score)\n",
    "    val_scores.append(val_score)\n",
    "\n",
    "    # Plotting the training and validation scores\n",
    "plt.figure(figsize=(10, 6))\n",
    "plt.plot(n_estimators_values, train_scores, label='Training Accuracy', marker='o')\n",
    "plt.plot(n_estimators_values, val_scores, label='Validation Accuracy', marker='x')\n",
    "plt.xlabel('n_estimators')\n",
    "plt.ylabel('Accuracy')\n",
    "plt.title('Training vs Validation Accuracy for Random Forest')\n",
    "plt.legend()\n",
    "plt.grid(True)\n",
    "plt.show()"
   ]
  },
  {
   "cell_type": "markdown",
   "id": "34c139c0-0347-456e-a034-7a34e425a0a8",
   "metadata": {},
   "source": [
    "### Model Evaluation: Random Forest Classifier\n",
    "\n",
    "This section of the code evaluates the trained Random Forest Classifier on the test set using various metrics, including the classification report and ROC curve."
   ]
  },
  {
   "cell_type": "code",
   "execution_count": null,
   "id": "dd7a1599-9d60-4d78-a377-03c872bd0479",
   "metadata": {},
   "outputs": [],
   "source": [
    "clf = RandomForestClassifier(random_state=42)\n",
    "clf.fit(X_train_scaled, y_train)\n",
    "\n",
    "y_pred = clf.predict(X_test_scaled)\n",
    "\n",
    "print(\"Classification Report:\")\n",
    "print(classification_report(y_test, y_pred))\n",
    "print(\"ROC AUC Score:\", roc_auc_score(y_test, y_pred))\n",
    "\n",
    "# ROC curve and ROC area for each class\n",
    "fpr, tpr, _ = roc_curve(y_test, clf.predict_proba(X_test_scaled)[:, 1])\n",
    "roc_auc = auc(fpr, tpr)\n",
    "\n",
    "# Plotting\n",
    "plt.figure()\n",
    "plt.plot(fpr, tpr, color='darkorange', lw=2, label='ROC curve (area = %0.2f)' % roc_auc)\n",
    "plt.plot([0, 1], [0, 1], color='navy', lw=2, linestyle='--')\n",
    "plt.xlim([0.0, 1.0])\n",
    "plt.ylim([0.0, 1.05])\n",
    "plt.xlabel('False Positive Rate')\n",
    "plt.ylabel('True Positive Rate')\n",
    "plt.title('ROC Curve')\n",
    "plt.legend(loc=\"lower right\")\n",
    "plt.show()"
   ]
  },
  {
   "cell_type": "markdown",
   "id": "0ca7ec3d-2183-4d6e-afd4-fa80b42290e2",
   "metadata": {},
   "source": [
    "### Data Saving and Uploading to S3\n",
    "\n",
    "This section of the code involves saving the datasets to CSV files and uploading them to Amazon S3 for storage and future use.\n"
   ]
  },
  {
   "cell_type": "code",
   "execution_count": null,
   "id": "501335cb-42a6-4c66-8bd7-e6af11abeaeb",
   "metadata": {},
   "outputs": [],
   "source": [
    "# Train/test split for dataset export\n",
    "train_data, test_data = train_test_split(df[numeric_columns], test_size=0.2, random_state=42)\n",
    "\n",
    "# Further split the train_data to create validation_data\n",
    "train_data, validation_data = train_test_split(train_data, test_size=0.2, random_state=42)\n",
    "\n",
    "# Save datasets to CSV files\n",
    "train_data.to_csv('train.csv', index=False)\n",
    "test_data.to_csv('test.csv', index=False)\n",
    "validation_data.to_csv('validation.csv', index=False)\n",
    "\n",
    "# Upload datasets to S3\n",
    "s3 = boto3.client('s3')\n",
    "bucket_name = 'medicaldata01'\n",
    "s3.upload_file('train.csv', 'medicaldata01',  'Medical_data/dataset/train.csv')\n",
    "s3.upload_file('test.csv', 'medicaldata01', 'Medical_data/dataset/test.csv')\n",
    "s3.upload_file('validation.csv', 'medicaldata01', 'Medical_data/dataset/validation.csv')"
   ]
  },
  {
   "cell_type": "markdown",
   "id": "12da5e45-81d7-4132-b0ab-0ea25b20458e",
   "metadata": {},
   "source": [
    "### Prediction and Displaying Results\n",
    "\n",
    "This section of the code involves making predictions using the trained classifier on the test set and displaying the results, including predicted labels and probability estimates.\n"
   ]
  },
  {
   "cell_type": "code",
   "execution_count": null,
   "id": "3ae47c2a-d006-4ea9-a653-de43949812dd",
   "metadata": {},
   "outputs": [],
   "source": [
    "# Prediction\n",
    "y_pred = clf.predict(X_test_scaled)\n",
    "\n",
    "# Displaying predictions\n",
    "print(\"Predicted Labels:\", y_pred)\n",
    "\n",
    "# Probability Estimates\n",
    "y_prob = clf.predict_proba(X_test_scaled)\n",
    "\n",
    "# Displaying probability estimates\n",
    "print(\"Probability Estimates:\", y_prob)"
   ]
  },
  {
   "cell_type": "markdown",
   "id": "bb18fa9b-9968-43a7-8268-ac25c11726f5",
   "metadata": {},
   "source": [
    "## Conclusion\n",
    "\n",
    "In this code, we performed various steps for training and evaluating a machine learning model using Amazon SageMaker. Here's a summary of the key tasks accomplished:\n",
    "\n",
    "1. **Data Preprocessing**: We cleaned the data, performed feature engineering, handled missing values, and encoded categorical variables. Additionally, we split the dataset into training, testing, and validation sets.\n",
    "\n",
    "2. **Model Training and Evaluation**: We trained a Random Forest Classifier with different values of `n_estimators` and evaluated its performance using training and validation accuracy scores. We also evaluated the trained classifier on the test set using metrics such as the classification report and ROC curve.\n",
    "\n",
    "3. **Data Saving and Uploading to S3**: Finally, we saved the datasets to CSV files and uploaded them to Amazon S3 for storage and future use.\n",
    "\n",
    "Overall, this code demonstrates the end-to-end process of training a machine learning model, evaluating its performance, and saving/uploading datasets for further analysis or deployment. The results obtained from the model evaluation provide insights into its effectiveness and can guide future improvements or decisions."
   ]
  },
  {
   "cell_type": "markdown",
   "id": "2e421ac6-4026-4e9c-82f0-58dde447a187",
   "metadata": {},
   "source": [
    "## Thank You\n",
    "\n",
    "### karthik "
   ]
  }
 ],
 "metadata": {
  "availableInstances": [
   {
    "_defaultOrder": 0,
    "_isFastLaunch": true,
    "category": "General purpose",
    "gpuNum": 0,
    "hideHardwareSpecs": false,
    "memoryGiB": 4,
    "name": "ml.t3.medium",
    "vcpuNum": 2
   },
   {
    "_defaultOrder": 1,
    "_isFastLaunch": false,
    "category": "General purpose",
    "gpuNum": 0,
    "hideHardwareSpecs": false,
    "memoryGiB": 8,
    "name": "ml.t3.large",
    "vcpuNum": 2
   },
   {
    "_defaultOrder": 2,
    "_isFastLaunch": false,
    "category": "General purpose",
    "gpuNum": 0,
    "hideHardwareSpecs": false,
    "memoryGiB": 16,
    "name": "ml.t3.xlarge",
    "vcpuNum": 4
   },
   {
    "_defaultOrder": 3,
    "_isFastLaunch": false,
    "category": "General purpose",
    "gpuNum": 0,
    "hideHardwareSpecs": false,
    "memoryGiB": 32,
    "name": "ml.t3.2xlarge",
    "vcpuNum": 8
   },
   {
    "_defaultOrder": 4,
    "_isFastLaunch": true,
    "category": "General purpose",
    "gpuNum": 0,
    "hideHardwareSpecs": false,
    "memoryGiB": 8,
    "name": "ml.m5.large",
    "vcpuNum": 2
   },
   {
    "_defaultOrder": 5,
    "_isFastLaunch": false,
    "category": "General purpose",
    "gpuNum": 0,
    "hideHardwareSpecs": false,
    "memoryGiB": 16,
    "name": "ml.m5.xlarge",
    "vcpuNum": 4
   },
   {
    "_defaultOrder": 6,
    "_isFastLaunch": false,
    "category": "General purpose",
    "gpuNum": 0,
    "hideHardwareSpecs": false,
    "memoryGiB": 32,
    "name": "ml.m5.2xlarge",
    "vcpuNum": 8
   },
   {
    "_defaultOrder": 7,
    "_isFastLaunch": false,
    "category": "General purpose",
    "gpuNum": 0,
    "hideHardwareSpecs": false,
    "memoryGiB": 64,
    "name": "ml.m5.4xlarge",
    "vcpuNum": 16
   },
   {
    "_defaultOrder": 8,
    "_isFastLaunch": false,
    "category": "General purpose",
    "gpuNum": 0,
    "hideHardwareSpecs": false,
    "memoryGiB": 128,
    "name": "ml.m5.8xlarge",
    "vcpuNum": 32
   },
   {
    "_defaultOrder": 9,
    "_isFastLaunch": false,
    "category": "General purpose",
    "gpuNum": 0,
    "hideHardwareSpecs": false,
    "memoryGiB": 192,
    "name": "ml.m5.12xlarge",
    "vcpuNum": 48
   },
   {
    "_defaultOrder": 10,
    "_isFastLaunch": false,
    "category": "General purpose",
    "gpuNum": 0,
    "hideHardwareSpecs": false,
    "memoryGiB": 256,
    "name": "ml.m5.16xlarge",
    "vcpuNum": 64
   },
   {
    "_defaultOrder": 11,
    "_isFastLaunch": false,
    "category": "General purpose",
    "gpuNum": 0,
    "hideHardwareSpecs": false,
    "memoryGiB": 384,
    "name": "ml.m5.24xlarge",
    "vcpuNum": 96
   },
   {
    "_defaultOrder": 12,
    "_isFastLaunch": false,
    "category": "General purpose",
    "gpuNum": 0,
    "hideHardwareSpecs": false,
    "memoryGiB": 8,
    "name": "ml.m5d.large",
    "vcpuNum": 2
   },
   {
    "_defaultOrder": 13,
    "_isFastLaunch": false,
    "category": "General purpose",
    "gpuNum": 0,
    "hideHardwareSpecs": false,
    "memoryGiB": 16,
    "name": "ml.m5d.xlarge",
    "vcpuNum": 4
   },
   {
    "_defaultOrder": 14,
    "_isFastLaunch": false,
    "category": "General purpose",
    "gpuNum": 0,
    "hideHardwareSpecs": false,
    "memoryGiB": 32,
    "name": "ml.m5d.2xlarge",
    "vcpuNum": 8
   },
   {
    "_defaultOrder": 15,
    "_isFastLaunch": false,
    "category": "General purpose",
    "gpuNum": 0,
    "hideHardwareSpecs": false,
    "memoryGiB": 64,
    "name": "ml.m5d.4xlarge",
    "vcpuNum": 16
   },
   {
    "_defaultOrder": 16,
    "_isFastLaunch": false,
    "category": "General purpose",
    "gpuNum": 0,
    "hideHardwareSpecs": false,
    "memoryGiB": 128,
    "name": "ml.m5d.8xlarge",
    "vcpuNum": 32
   },
   {
    "_defaultOrder": 17,
    "_isFastLaunch": false,
    "category": "General purpose",
    "gpuNum": 0,
    "hideHardwareSpecs": false,
    "memoryGiB": 192,
    "name": "ml.m5d.12xlarge",
    "vcpuNum": 48
   },
   {
    "_defaultOrder": 18,
    "_isFastLaunch": false,
    "category": "General purpose",
    "gpuNum": 0,
    "hideHardwareSpecs": false,
    "memoryGiB": 256,
    "name": "ml.m5d.16xlarge",
    "vcpuNum": 64
   },
   {
    "_defaultOrder": 19,
    "_isFastLaunch": false,
    "category": "General purpose",
    "gpuNum": 0,
    "hideHardwareSpecs": false,
    "memoryGiB": 384,
    "name": "ml.m5d.24xlarge",
    "vcpuNum": 96
   },
   {
    "_defaultOrder": 20,
    "_isFastLaunch": false,
    "category": "General purpose",
    "gpuNum": 0,
    "hideHardwareSpecs": true,
    "memoryGiB": 0,
    "name": "ml.geospatial.interactive",
    "supportedImageNames": [
     "sagemaker-geospatial-v1-0"
    ],
    "vcpuNum": 0
   },
   {
    "_defaultOrder": 21,
    "_isFastLaunch": true,
    "category": "Compute optimized",
    "gpuNum": 0,
    "hideHardwareSpecs": false,
    "memoryGiB": 4,
    "name": "ml.c5.large",
    "vcpuNum": 2
   },
   {
    "_defaultOrder": 22,
    "_isFastLaunch": false,
    "category": "Compute optimized",
    "gpuNum": 0,
    "hideHardwareSpecs": false,
    "memoryGiB": 8,
    "name": "ml.c5.xlarge",
    "vcpuNum": 4
   },
   {
    "_defaultOrder": 23,
    "_isFastLaunch": false,
    "category": "Compute optimized",
    "gpuNum": 0,
    "hideHardwareSpecs": false,
    "memoryGiB": 16,
    "name": "ml.c5.2xlarge",
    "vcpuNum": 8
   },
   {
    "_defaultOrder": 24,
    "_isFastLaunch": false,
    "category": "Compute optimized",
    "gpuNum": 0,
    "hideHardwareSpecs": false,
    "memoryGiB": 32,
    "name": "ml.c5.4xlarge",
    "vcpuNum": 16
   },
   {
    "_defaultOrder": 25,
    "_isFastLaunch": false,
    "category": "Compute optimized",
    "gpuNum": 0,
    "hideHardwareSpecs": false,
    "memoryGiB": 72,
    "name": "ml.c5.9xlarge",
    "vcpuNum": 36
   },
   {
    "_defaultOrder": 26,
    "_isFastLaunch": false,
    "category": "Compute optimized",
    "gpuNum": 0,
    "hideHardwareSpecs": false,
    "memoryGiB": 96,
    "name": "ml.c5.12xlarge",
    "vcpuNum": 48
   },
   {
    "_defaultOrder": 27,
    "_isFastLaunch": false,
    "category": "Compute optimized",
    "gpuNum": 0,
    "hideHardwareSpecs": false,
    "memoryGiB": 144,
    "name": "ml.c5.18xlarge",
    "vcpuNum": 72
   },
   {
    "_defaultOrder": 28,
    "_isFastLaunch": false,
    "category": "Compute optimized",
    "gpuNum": 0,
    "hideHardwareSpecs": false,
    "memoryGiB": 192,
    "name": "ml.c5.24xlarge",
    "vcpuNum": 96
   },
   {
    "_defaultOrder": 29,
    "_isFastLaunch": true,
    "category": "Accelerated computing",
    "gpuNum": 1,
    "hideHardwareSpecs": false,
    "memoryGiB": 16,
    "name": "ml.g4dn.xlarge",
    "vcpuNum": 4
   },
   {
    "_defaultOrder": 30,
    "_isFastLaunch": false,
    "category": "Accelerated computing",
    "gpuNum": 1,
    "hideHardwareSpecs": false,
    "memoryGiB": 32,
    "name": "ml.g4dn.2xlarge",
    "vcpuNum": 8
   },
   {
    "_defaultOrder": 31,
    "_isFastLaunch": false,
    "category": "Accelerated computing",
    "gpuNum": 1,
    "hideHardwareSpecs": false,
    "memoryGiB": 64,
    "name": "ml.g4dn.4xlarge",
    "vcpuNum": 16
   },
   {
    "_defaultOrder": 32,
    "_isFastLaunch": false,
    "category": "Accelerated computing",
    "gpuNum": 1,
    "hideHardwareSpecs": false,
    "memoryGiB": 128,
    "name": "ml.g4dn.8xlarge",
    "vcpuNum": 32
   },
   {
    "_defaultOrder": 33,
    "_isFastLaunch": false,
    "category": "Accelerated computing",
    "gpuNum": 4,
    "hideHardwareSpecs": false,
    "memoryGiB": 192,
    "name": "ml.g4dn.12xlarge",
    "vcpuNum": 48
   },
   {
    "_defaultOrder": 34,
    "_isFastLaunch": false,
    "category": "Accelerated computing",
    "gpuNum": 1,
    "hideHardwareSpecs": false,
    "memoryGiB": 256,
    "name": "ml.g4dn.16xlarge",
    "vcpuNum": 64
   },
   {
    "_defaultOrder": 35,
    "_isFastLaunch": false,
    "category": "Accelerated computing",
    "gpuNum": 1,
    "hideHardwareSpecs": false,
    "memoryGiB": 61,
    "name": "ml.p3.2xlarge",
    "vcpuNum": 8
   },
   {
    "_defaultOrder": 36,
    "_isFastLaunch": false,
    "category": "Accelerated computing",
    "gpuNum": 4,
    "hideHardwareSpecs": false,
    "memoryGiB": 244,
    "name": "ml.p3.8xlarge",
    "vcpuNum": 32
   },
   {
    "_defaultOrder": 37,
    "_isFastLaunch": false,
    "category": "Accelerated computing",
    "gpuNum": 8,
    "hideHardwareSpecs": false,
    "memoryGiB": 488,
    "name": "ml.p3.16xlarge",
    "vcpuNum": 64
   },
   {
    "_defaultOrder": 38,
    "_isFastLaunch": false,
    "category": "Accelerated computing",
    "gpuNum": 8,
    "hideHardwareSpecs": false,
    "memoryGiB": 768,
    "name": "ml.p3dn.24xlarge",
    "vcpuNum": 96
   },
   {
    "_defaultOrder": 39,
    "_isFastLaunch": false,
    "category": "Memory Optimized",
    "gpuNum": 0,
    "hideHardwareSpecs": false,
    "memoryGiB": 16,
    "name": "ml.r5.large",
    "vcpuNum": 2
   },
   {
    "_defaultOrder": 40,
    "_isFastLaunch": false,
    "category": "Memory Optimized",
    "gpuNum": 0,
    "hideHardwareSpecs": false,
    "memoryGiB": 32,
    "name": "ml.r5.xlarge",
    "vcpuNum": 4
   },
   {
    "_defaultOrder": 41,
    "_isFastLaunch": false,
    "category": "Memory Optimized",
    "gpuNum": 0,
    "hideHardwareSpecs": false,
    "memoryGiB": 64,
    "name": "ml.r5.2xlarge",
    "vcpuNum": 8
   },
   {
    "_defaultOrder": 42,
    "_isFastLaunch": false,
    "category": "Memory Optimized",
    "gpuNum": 0,
    "hideHardwareSpecs": false,
    "memoryGiB": 128,
    "name": "ml.r5.4xlarge",
    "vcpuNum": 16
   },
   {
    "_defaultOrder": 43,
    "_isFastLaunch": false,
    "category": "Memory Optimized",
    "gpuNum": 0,
    "hideHardwareSpecs": false,
    "memoryGiB": 256,
    "name": "ml.r5.8xlarge",
    "vcpuNum": 32
   },
   {
    "_defaultOrder": 44,
    "_isFastLaunch": false,
    "category": "Memory Optimized",
    "gpuNum": 0,
    "hideHardwareSpecs": false,
    "memoryGiB": 384,
    "name": "ml.r5.12xlarge",
    "vcpuNum": 48
   },
   {
    "_defaultOrder": 45,
    "_isFastLaunch": false,
    "category": "Memory Optimized",
    "gpuNum": 0,
    "hideHardwareSpecs": false,
    "memoryGiB": 512,
    "name": "ml.r5.16xlarge",
    "vcpuNum": 64
   },
   {
    "_defaultOrder": 46,
    "_isFastLaunch": false,
    "category": "Memory Optimized",
    "gpuNum": 0,
    "hideHardwareSpecs": false,
    "memoryGiB": 768,
    "name": "ml.r5.24xlarge",
    "vcpuNum": 96
   },
   {
    "_defaultOrder": 47,
    "_isFastLaunch": false,
    "category": "Accelerated computing",
    "gpuNum": 1,
    "hideHardwareSpecs": false,
    "memoryGiB": 16,
    "name": "ml.g5.xlarge",
    "vcpuNum": 4
   },
   {
    "_defaultOrder": 48,
    "_isFastLaunch": false,
    "category": "Accelerated computing",
    "gpuNum": 1,
    "hideHardwareSpecs": false,
    "memoryGiB": 32,
    "name": "ml.g5.2xlarge",
    "vcpuNum": 8
   },
   {
    "_defaultOrder": 49,
    "_isFastLaunch": false,
    "category": "Accelerated computing",
    "gpuNum": 1,
    "hideHardwareSpecs": false,
    "memoryGiB": 64,
    "name": "ml.g5.4xlarge",
    "vcpuNum": 16
   },
   {
    "_defaultOrder": 50,
    "_isFastLaunch": false,
    "category": "Accelerated computing",
    "gpuNum": 1,
    "hideHardwareSpecs": false,
    "memoryGiB": 128,
    "name": "ml.g5.8xlarge",
    "vcpuNum": 32
   },
   {
    "_defaultOrder": 51,
    "_isFastLaunch": false,
    "category": "Accelerated computing",
    "gpuNum": 1,
    "hideHardwareSpecs": false,
    "memoryGiB": 256,
    "name": "ml.g5.16xlarge",
    "vcpuNum": 64
   },
   {
    "_defaultOrder": 52,
    "_isFastLaunch": false,
    "category": "Accelerated computing",
    "gpuNum": 4,
    "hideHardwareSpecs": false,
    "memoryGiB": 192,
    "name": "ml.g5.12xlarge",
    "vcpuNum": 48
   },
   {
    "_defaultOrder": 53,
    "_isFastLaunch": false,
    "category": "Accelerated computing",
    "gpuNum": 4,
    "hideHardwareSpecs": false,
    "memoryGiB": 384,
    "name": "ml.g5.24xlarge",
    "vcpuNum": 96
   },
   {
    "_defaultOrder": 54,
    "_isFastLaunch": false,
    "category": "Accelerated computing",
    "gpuNum": 8,
    "hideHardwareSpecs": false,
    "memoryGiB": 768,
    "name": "ml.g5.48xlarge",
    "vcpuNum": 192
   },
   {
    "_defaultOrder": 55,
    "_isFastLaunch": false,
    "category": "Accelerated computing",
    "gpuNum": 8,
    "hideHardwareSpecs": false,
    "memoryGiB": 1152,
    "name": "ml.p4d.24xlarge",
    "vcpuNum": 96
   },
   {
    "_defaultOrder": 56,
    "_isFastLaunch": false,
    "category": "Accelerated computing",
    "gpuNum": 8,
    "hideHardwareSpecs": false,
    "memoryGiB": 1152,
    "name": "ml.p4de.24xlarge",
    "vcpuNum": 96
   },
   {
    "_defaultOrder": 57,
    "_isFastLaunch": false,
    "category": "Accelerated computing",
    "gpuNum": 0,
    "hideHardwareSpecs": false,
    "memoryGiB": 32,
    "name": "ml.trn1.2xlarge",
    "vcpuNum": 8
   },
   {
    "_defaultOrder": 58,
    "_isFastLaunch": false,
    "category": "Accelerated computing",
    "gpuNum": 0,
    "hideHardwareSpecs": false,
    "memoryGiB": 512,
    "name": "ml.trn1.32xlarge",
    "vcpuNum": 128
   },
   {
    "_defaultOrder": 59,
    "_isFastLaunch": false,
    "category": "Accelerated computing",
    "gpuNum": 0,
    "hideHardwareSpecs": false,
    "memoryGiB": 512,
    "name": "ml.trn1n.32xlarge",
    "vcpuNum": 128
   }
  ],
  "instance_type": "ml.t3.medium",
  "kernelspec": {
   "display_name": "Python 3 (Data Science 3.0)",
   "language": "python",
   "name": "python3__SAGEMAKER_INTERNAL__arn:aws:sagemaker:us-east-1:081325390199:image/sagemaker-data-science-310-v1"
  },
  "language_info": {
   "codemirror_mode": {
    "name": "ipython",
    "version": 3
   },
   "file_extension": ".py",
   "mimetype": "text/x-python",
   "name": "python",
   "nbconvert_exporter": "python",
   "pygments_lexer": "ipython3",
   "version": "3.10.6"
  }
 },
 "nbformat": 4,
 "nbformat_minor": 5
}
